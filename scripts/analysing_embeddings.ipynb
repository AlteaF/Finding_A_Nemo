{
 "cells": [
  {
   "cell_type": "code",
   "execution_count": 4,
   "metadata": {},
   "outputs": [
    {
     "name": "stdout",
     "output_type": "stream",
     "text": [
      "['embeddings', 'image_paths']\n",
      "Embeddings shape: (40359, 384)\n",
      "First embedding vector (truncated): [ 0.07402101  0.03147195 -0.00548624 -0.05662907 -0.04720166  0.01386123\n",
      "  0.00832905 -0.06335768  0.03400653  0.00020351 -0.02649799 -0.04028862\n",
      "  0.00228342  0.0968358   0.01829118  0.0187022  -0.02333739 -0.06428425\n",
      " -0.08110244 -0.01974241  0.00301924  0.05587566 -0.00724356  0.01575331\n",
      " -0.07909159]\n"
     ]
    }
   ],
   "source": [
    "import numpy as np\n",
    "\n",
    "# Load file\n",
    "data = np.load(\"../normalised_embeddings/dino_normalised_embeddings_train.npz\", allow_pickle=True)\n",
    "\n",
    "# See what keys are inside\n",
    "print(data.files)  # usually ['embeddings', 'image_paths']\n",
    "\n",
    "# Extract arrays\n",
    "embeddings = data[\"embeddings\"]\n",
    "image_paths = data[\"image_paths\"]\n",
    "\n",
    "print(\"Embeddings shape:\", embeddings.shape)\n",
    "#print(\"First 10 image paths:\", image_paths[:10])\n",
    "print(\"First embedding vector (truncated):\", embeddings[0][:25])  # show first 10 dims\n"
   ]
  },
  {
   "cell_type": "code",
   "execution_count": null,
   "metadata": {},
   "outputs": [],
   "source": []
  }
 ],
 "metadata": {
  "kernelspec": {
   "display_name": "rp_fish",
   "language": "python",
   "name": "rp_fish"
  },
  "language_info": {
   "codemirror_mode": {
    "name": "ipython",
    "version": 3
   },
   "file_extension": ".py",
   "mimetype": "text/x-python",
   "name": "python",
   "nbconvert_exporter": "python",
   "pygments_lexer": "ipython3",
   "version": "3.9.12"
  }
 },
 "nbformat": 4,
 "nbformat_minor": 2
}
